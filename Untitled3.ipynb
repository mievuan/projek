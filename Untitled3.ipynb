{
 "cells": [
  {
   "cell_type": "code",
   "execution_count": 3,
   "id": "db2d45fd-e583-4939-aa70-89bce1067d6a",
   "metadata": {
    "tags": []
   },
   "outputs": [],
   "source": [
    "#CODE FOR MERGIN WANTED DATA\n",
    "import pandas as pd\n",
    "\n",
    "death_rate = pd.read_csv('API_SP.DYN.CDRT.IN_DS2_en_csv_v2_5842788.csv')   \n",
    "death_rate = death_rate.dropna()\n",
    "gdp = pd.read_csv('API_NY.GDP.PCAP.CD_DS2_en_csv_v2_5839616.csv')\n",
    "gdp = gdp.dropna()\n",
    "pop0_14 = pd.read_csv('API_SP.POP.0014.TO.ZS_DS2_en_csv_v2_5844718.csv')\n",
    "pop0_14 = pop0_14.dropna()\n",
    "pop65 = pd.read_csv('API_SP.POP.65UP.TO.ZS_DS2_en_csv_v2_5850343.csv')\n",
    "pop65 = pop65.dropna()\n",
    "pop15_65 = pd.read_csv('API_SP.POP.1564.TO.ZS_DS2_en_csv_v2_5839559.csv')\n",
    "pop15_65 = pop15_65.dropna()\n",
    "\n",
    "merged_df = pd.merge(death_rate, gdp, on='Country Name')\n",
    "merged_df = merged_df.drop(['Country Code_y','Indicator Name_y'],axis=1)\n",
    "merged_df = pd.merge(merged_df, pop0_14, on='Country Name')\n",
    "merged_df = merged_df.drop(['Country Code','Indicator Name'],axis=1)\n",
    "merged_df.columns=['Country Name','Country Code', 'Indicator Name', 'Death rate', 'gdp','population % 0-14'] \n",
    "merged_df = pd.merge(merged_df, pop65, on='Country Name')\n",
    "merged_df = merged_df.drop(['Country Code_y','Indicator Name_y'],axis=1)\n",
    "merged_df.columns=['Country Name','Country Code', 'Indicator Name', 'Death rate', 'gdp','population % 0-14', 'population % over 65'] \n",
    "merged_df = pd.merge(merged_df, pop15_65, on='Country Name')\n",
    "merged_df = merged_df.drop(['Indicator Name_x','Country Code_y','Indicator Name_y'],axis=1)\n",
    "merged_df.columns=['Country Name','Country Code', 'Death rate', 'gdp','population % 0-14', 'population % over 65', 'population % 15-65']\n",
    "merged_df.to_csv('My_data2.csv')"
   ]
  },
  {
   "cell_type": "code",
   "execution_count": null,
   "id": "9203a45e-5126-48c3-a4da-de48c08d0dfe",
   "metadata": {},
   "outputs": [],
   "source": []
  },
  {
   "cell_type": "code",
   "execution_count": null,
   "id": "e984cfb1-e764-45f9-b708-2c20896d0992",
   "metadata": {},
   "outputs": [],
   "source": []
  }
 ],
 "metadata": {
  "kernelspec": {
   "display_name": "Python 3",
   "language": "python",
   "name": "python3"
  },
  "language_info": {
   "codemirror_mode": {
    "name": "ipython",
    "version": 3
   },
   "file_extension": ".py",
   "mimetype": "text/x-python",
   "name": "python",
   "nbconvert_exporter": "python",
   "pygments_lexer": "ipython3",
   "version": "3.10.8"
  }
 },
 "nbformat": 4,
 "nbformat_minor": 5
}

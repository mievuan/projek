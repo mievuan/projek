{
 "cells": [
  {
   "cell_type": "code",
   "execution_count": 1,
   "id": "ec24133f-c961-4263-a7cf-679593a8ef5c",
   "metadata": {
    "tags": []
   },
   "outputs": [],
   "source": [
    "import pandas as pd\n",
    "import numpy as np\n",
    "\n",
    "from sklearn.model_selection import train_test_split\n",
    "from sklearn.ensemble import RandomForestRegressor\n",
    "from sklearn.metrics import mean_squared_error, mean_absolute_error"
   ]
  },
  {
   "cell_type": "code",
   "execution_count": 21,
   "id": "d6145415-8618-40e5-9b42-f980bd504e4a",
   "metadata": {
    "tags": []
   },
   "outputs": [
    {
     "data": {
      "text/html": [
       "<div>\n",
       "<style scoped>\n",
       "    .dataframe tbody tr th:only-of-type {\n",
       "        vertical-align: middle;\n",
       "    }\n",
       "\n",
       "    .dataframe tbody tr th {\n",
       "        vertical-align: top;\n",
       "    }\n",
       "\n",
       "    .dataframe thead th {\n",
       "        text-align: right;\n",
       "    }\n",
       "</style>\n",
       "<table border=\"1\" class=\"dataframe\">\n",
       "  <thead>\n",
       "    <tr style=\"text-align: right;\">\n",
       "      <th></th>\n",
       "      <th>Unnamed: 0</th>\n",
       "      <th>Country Name</th>\n",
       "      <th>Country Code</th>\n",
       "      <th>Death rate</th>\n",
       "      <th>gdp</th>\n",
       "      <th>population % 0-14</th>\n",
       "      <th>population % over 65</th>\n",
       "      <th>population % 15-65</th>\n",
       "    </tr>\n",
       "  </thead>\n",
       "  <tbody>\n",
       "    <tr>\n",
       "      <th>0</th>\n",
       "      <td>0</td>\n",
       "      <td>Aruba</td>\n",
       "      <td>ABW</td>\n",
       "      <td>11.235000</td>\n",
       "      <td>29342.100730</td>\n",
       "      <td>16.799407</td>\n",
       "      <td>15.543499</td>\n",
       "      <td>67.657094</td>\n",
       "    </tr>\n",
       "    <tr>\n",
       "      <th>1</th>\n",
       "      <td>1</td>\n",
       "      <td>Africa Eastern and Southern</td>\n",
       "      <td>AFE</td>\n",
       "      <td>8.036899</td>\n",
       "      <td>1539.165543</td>\n",
       "      <td>41.362729</td>\n",
       "      <td>3.165339</td>\n",
       "      <td>55.471932</td>\n",
       "    </tr>\n",
       "    <tr>\n",
       "      <th>2</th>\n",
       "      <td>2</td>\n",
       "      <td>Afghanistan</td>\n",
       "      <td>AFG</td>\n",
       "      <td>7.344000</td>\n",
       "      <td>363.674087</td>\n",
       "      <td>43.424543</td>\n",
       "      <td>2.404058</td>\n",
       "      <td>54.171399</td>\n",
       "    </tr>\n",
       "    <tr>\n",
       "      <th>3</th>\n",
       "      <td>3</td>\n",
       "      <td>Africa Western and Central</td>\n",
       "      <td>AFW</td>\n",
       "      <td>10.678952</td>\n",
       "      <td>1765.965307</td>\n",
       "      <td>43.095027</td>\n",
       "      <td>2.883146</td>\n",
       "      <td>54.021827</td>\n",
       "    </tr>\n",
       "    <tr>\n",
       "      <th>4</th>\n",
       "      <td>4</td>\n",
       "      <td>Angola</td>\n",
       "      <td>AGO</td>\n",
       "      <td>8.009000</td>\n",
       "      <td>1903.717405</td>\n",
       "      <td>45.179105</td>\n",
       "      <td>2.594470</td>\n",
       "      <td>52.226425</td>\n",
       "    </tr>\n",
       "  </tbody>\n",
       "</table>\n",
       "</div>"
      ],
      "text/plain": [
       "   Unnamed: 0                 Country Name Country Code  Death rate  \\\n",
       "0           0                        Aruba          ABW   11.235000   \n",
       "1           1  Africa Eastern and Southern          AFE    8.036899   \n",
       "2           2                  Afghanistan          AFG    7.344000   \n",
       "3           3   Africa Western and Central          AFW   10.678952   \n",
       "4           4                       Angola          AGO    8.009000   \n",
       "\n",
       "            gdp  population % 0-14  population % over 65  population % 15-65  \n",
       "0  29342.100730          16.799407             15.543499           67.657094  \n",
       "1   1539.165543          41.362729              3.165339           55.471932  \n",
       "2    363.674087          43.424543              2.404058           54.171399  \n",
       "3   1765.965307          43.095027              2.883146           54.021827  \n",
       "4   1903.717405          45.179105              2.594470           52.226425  "
      ]
     },
     "execution_count": 21,
     "metadata": {},
     "output_type": "execute_result"
    }
   ],
   "source": [
    "data = pd.read_csv('My_data.csv')\n",
    "data.head()"
   ]
  },
  {
   "cell_type": "code",
   "execution_count": 26,
   "id": "ed213d16-0560-4182-bd7b-d576e0c2ed67",
   "metadata": {
    "tags": []
   },
   "outputs": [],
   "source": [
    "X = data.drop(['Unnamed: 0','Country Name','Country Code','Death rate'], axis=1).values\n",
    "y = data['Death rate']"
   ]
  },
  {
   "cell_type": "code",
   "execution_count": 35,
   "id": "709d62b8-f95e-4490-924e-dbae24c7a33f",
   "metadata": {
    "tags": []
   },
   "outputs": [],
   "source": [
    "X_train, X_val, y_train, y_val = train_test_split(X, y, test_size=0.30, random_state=0)\n",
    "X_val, X_test, y_val, y_test = train_test_split(X_val, y_val, test_size=0.50, random_state=0)"
   ]
  },
  {
   "cell_type": "code",
   "execution_count": 36,
   "id": "16c6a192-1e92-4aa3-a283-477a9ca9bcbe",
   "metadata": {
    "tags": []
   },
   "outputs": [],
   "source": [
    "regr = RandomForestRegressor(random_state=0)\n",
    "regr.fit(X_train, y_train)\n",
    "y_pred = regr.predict(X_val)"
   ]
  },
  {
   "cell_type": "code",
   "execution_count": 37,
   "id": "dbc4d00d-0c1f-4d15-af2e-4694ad45a47f",
   "metadata": {
    "tags": []
   },
   "outputs": [
    {
     "name": "stdout",
     "output_type": "stream",
     "text": [
      "1.3820421637268017\n",
      "2.858256489080995\n"
     ]
    }
   ],
   "source": [
    "error = mean_squared_error(y_val,y_pred)\n",
    "print(mean_absolute_error(y_val, y_pred))\n",
    "print(error)"
   ]
  },
  {
   "cell_type": "code",
   "execution_count": 38,
   "id": "d143a417-ec7c-47d5-8c4d-27873ca4ccc2",
   "metadata": {
    "tags": []
   },
   "outputs": [
    {
     "name": "stdout",
     "output_type": "stream",
     "text": [
      "1.2848585654482525\n",
      "2.570986806932017\n"
     ]
    }
   ],
   "source": [
    "y_pred2 = regr.predict(X_test)\n",
    "error = mean_squared_error(y_test,y_pred2)\n",
    "print(mean_absolute_error(y_test, y_pred2))\n",
    "print(error)"
   ]
  },
  {
   "cell_type": "code",
   "execution_count": null,
   "id": "f4ffb333-3e19-46e2-bb4e-47d3977d4f8a",
   "metadata": {},
   "outputs": [],
   "source": []
  }
 ],
 "metadata": {
  "kernelspec": {
   "display_name": "Python 3",
   "language": "python",
   "name": "python3"
  },
  "language_info": {
   "codemirror_mode": {
    "name": "ipython",
    "version": 3
   },
   "file_extension": ".py",
   "mimetype": "text/x-python",
   "name": "python",
   "nbconvert_exporter": "python",
   "pygments_lexer": "ipython3",
   "version": "3.10.8"
  }
 },
 "nbformat": 4,
 "nbformat_minor": 5
}
